{
 "cells": [
  {
   "cell_type": "markdown",
   "id": "6bd623c8",
   "metadata": {},
   "source": [
    "# 房价预测\n",
    "\n",
    "## 导入模块"
   ]
  },
  {
   "cell_type": "code",
   "execution_count": 5,
   "id": "c98a836c",
   "metadata": {},
   "outputs": [],
   "source": [
    "import paddle\n",
    "from paddle.nn import Linear\n",
    "import paddle.nn.functional as F\n",
    "import matplotlib.pyplot as plt\n",
    "import numpy as np\n",
    "import os\n",
    "import random"
   ]
  },
  {
   "cell_type": "markdown",
   "id": "9f87a8f5",
   "metadata": {},
   "source": [
    "## 数据处理"
   ]
  },
  {
   "cell_type": "code",
   "execution_count": 6,
   "id": "ccd37db1",
   "metadata": {},
   "outputs": [],
   "source": [
    "\n",
    "def load_data():\n",
    "    # 从当前目录下./data/housing.data导入数据\n",
    "    datafile = '/mnt/e/Users/Administrator/Desktop/wsl_user/paddle/test/data/housing.data'\n",
    "    data = np.fromfile(datafile, sep=' ', dtype=np.float32)\n",
    "\n",
    "    # 每条数据包括14项，其中前面13项是影响因素，第14项是相应的房屋价格中位数\n",
    "    feature_names = [ 'CRIM', 'ZN', 'INDUS', 'CHAS', 'NOX', 'RM', 'AGE', \\\n",
    "                      'DIS', 'RAD', 'TAX', 'PTRATIO', 'B', 'LSTAT', 'MEDV' ]\n",
    "    feature_num = len(feature_names)\n",
    "\n",
    "    # 将原始数据进行Reshape，变成[N, 14]这样的形状\n",
    "    data = data.reshape([data.shape[0] // feature_num, feature_num])\n",
    "\n",
    "    # 将原数据集拆分成训练集和测试集\n",
    "    # 这里使用80%的数据做训练，20%的数据做测试\n",
    "    # 测试集和训练集必须是没有交集的\n",
    "    ratio = 0.8\n",
    "    offset = int(data.shape[0] * ratio)\n",
    "    training_data = data[:offset]\n",
    "\n",
    "    # 计算train数据集每一列的最大值，最小值\n",
    "    maximums, minimums = training_data.max(axis=0), training_data.min(axis=0)\n",
    "    \n",
    "    # 记录数据的归一化参数，在预测时对数据做归一化\n",
    "    global max_values\n",
    "    global min_values\n",
    "   \n",
    "    max_values = maximums\n",
    "    min_values = minimums\n",
    "    \n",
    "    # 对数据进行归一化处理\n",
    "    for i in range(feature_num):\n",
    "        data[:, i] = (data[:, i] - min_values[i]) / (maximums[i] - minimums[i])\n",
    "\n",
    "    # 训练集和测试集的划分比例\n",
    "    training_data = data[:offset]\n",
    "    test_data = data[offset:]\n",
    "    return training_data, test_data\n"
   ]
  },
  {
   "cell_type": "markdown",
   "id": "b783d6c5",
   "metadata": {},
   "source": [
    "## 构建网络模型"
   ]
  },
  {
   "cell_type": "code",
   "execution_count": 7,
   "id": "bd52e29c",
   "metadata": {},
   "outputs": [],
   "source": [
    "class Regressor(paddle.nn.Layer):\n",
    "\n",
    "    # self代表类的实例自身\n",
    "    def __init__(self):\n",
    "        # 初始化父类中的一些参数\n",
    "        super(Regressor, self).__init__()\n",
    "        \n",
    "        # 定义一层全连接层，输入维度是13，输出维度是1\n",
    "        self.fc = Linear(in_features=13, out_features=1)\n",
    "    \n",
    "    # 网络的前向计算\n",
    "    def forward(self, inputs):\n",
    "        x = self.fc(inputs)\n",
    "        return x"
   ]
  },
  {
   "cell_type": "markdown",
   "id": "94f7b7a4",
   "metadata": {},
   "source": [
    "## 训练模型"
   ]
  },
  {
   "cell_type": "code",
   "execution_count": 65,
   "id": "a92111ec",
   "metadata": {},
   "outputs": [
    {
     "name": "stdout",
     "output_type": "stream",
     "text": [
      "epoch: 0, iter: 0, loss is: 0.059536851942539215\n",
      "epoch: 0, iter: 40, loss is: 0.03923073410987854\n",
      "epoch: 1, iter: 0, loss is: 0.22754144668579102\n",
      "epoch: 1, iter: 40, loss is: 0.026738785207271576\n",
      "epoch: 2, iter: 0, loss is: 0.04483967646956444\n",
      "epoch: 2, iter: 40, loss is: 0.03559575229883194\n",
      "epoch: 3, iter: 0, loss is: 0.04834415763616562\n",
      "epoch: 3, iter: 40, loss is: 0.06855448335409164\n",
      "epoch: 4, iter: 0, loss is: 0.11893993616104126\n",
      "epoch: 4, iter: 40, loss is: 0.05228143930435181\n",
      "epoch: 5, iter: 0, loss is: 0.12282373011112213\n",
      "epoch: 5, iter: 40, loss is: 0.09874562919139862\n",
      "epoch: 6, iter: 0, loss is: 0.03225652500987053\n",
      "epoch: 6, iter: 40, loss is: 0.16716311872005463\n",
      "epoch: 7, iter: 0, loss is: 0.03228963539004326\n",
      "epoch: 7, iter: 40, loss is: 0.04652004688978195\n",
      "epoch: 8, iter: 0, loss is: 0.06497674435377121\n",
      "epoch: 8, iter: 40, loss is: 0.03455793112516403\n",
      "epoch: 9, iter: 0, loss is: 0.01776551455259323\n",
      "epoch: 9, iter: 40, loss is: 0.049316100776195526\n"
     ]
    }
   ],
   "source": [
    "# 声明定义好的线性回归模型\n",
    "model = Regressor()\n",
    "\n",
    "# 开启模型训练模式\n",
    "model.train()\n",
    "\n",
    "# 加载数据\n",
    "training_data, test_data = load_data()\n",
    "\n",
    "# 定义优化算法，使用随机梯度下降SGD\n",
    "# 学习率设置为0.01\n",
    "opt = paddle.optimizer.SGD(learning_rate=0.01, parameters=model.parameters())\n",
    "\n",
    "EPOCH_NUM = 10   # 设置外层循环次数\n",
    "BATCH_SIZE = 10  # 设置batch大小\n",
    "losses = []\n",
    "\n",
    "# 定义外层循环\n",
    "for epoch_id in range(EPOCH_NUM):\n",
    "    # 在每轮迭代开始之前，将训练数据的顺序随机的打乱\n",
    "    np.random.shuffle(training_data)\n",
    "    # 将训练数据进行拆分，每个batch包含10条数据\n",
    "    mini_batches = [training_data[k:k+BATCH_SIZE] for k in range(0, len(training_data), BATCH_SIZE)]\n",
    "    # 定义内层循环\n",
    "    for iter_id, mini_batch in enumerate(mini_batches):\n",
    "        x = np.array(mini_batch[:, :-1])\n",
    "        y = np.array(mini_batch[:, -1:])\n",
    "        # 将numpy数据转为tensor的格式\n",
    "        house_features = paddle.to_tensor(x)\n",
    "        prices = paddle.to_tensor(y)\n",
    "        \n",
    "        # 前向计算\n",
    "        predicts = model(house_features)\n",
    "\n",
    "        # 计算损失\n",
    "        loss = F.square_error_cost(predicts, label=prices)\n",
    "        avg_loss = paddle.mean(loss)\n",
    "        losses.append(avg_loss)\n",
    "        if iter_id%40==0:\n",
    "            print(\"epoch: {}, iter: {}, loss is: {}\".format(epoch_id, iter_id, avg_loss.item()))\n",
    "        \n",
    "        # 反向传播，计算每层参数的梯度值\n",
    "        avg_loss.backward()\n",
    "        # 更新参数，根据设置好的学习率迭代一步\n",
    "        opt.step()\n",
    "        # 清空梯度变量，以备下一轮计算\n",
    "        opt.clear_grad()"
   ]
  },
  {
   "cell_type": "markdown",
   "id": "0d531db4",
   "metadata": {},
   "source": [
    "## 绘制损失趋势"
   ]
  },
  {
   "cell_type": "code",
   "execution_count": 58,
   "id": "8513d4a0",
   "metadata": {},
   "outputs": [
    {
     "data": {
      "text/plain": [
       "<function matplotlib.pyplot.show(close=None, block=None)>"
      ]
     },
     "execution_count": 58,
     "metadata": {},
     "output_type": "execute_result"
    },
    {
     "data": {
      "image/png": "[encoded data removed]",
      "text/plain": [
       "<Figure size 640x480 with 1 Axes>"
      ]
     },
     "metadata": {},
     "output_type": "display_data"
    }
   ],
   "source": [
    "# 绘制损失函数变化趋势\n",
    "plot_x = np.arange(len(losses))\n",
    "plot_y = np.array(losses)\n",
    "plt.plot(plot_x, plot_y)\n",
    "plt.show"
   ]
  },
  {
   "cell_type": "markdown",
   "id": "af547769",
   "metadata": {},
   "source": [
    "## 模型保存和测试"
   ]
  },
  {
   "cell_type": "code",
   "execution_count": 59,
   "id": "ce1abbde",
   "metadata": {},
   "outputs": [
    {
     "name": "stdout",
     "output_type": "stream",
     "text": [
      "模型参数保存在./paddle/LR_model.pdparams中\n"
     ]
    }
   ],
   "source": [
    "    # 保存模型参数，文件名为LR_model.pdparams\n",
    "    paddle.save(model.state_dict(), './paddle/LR_model.pdparams')\n",
    "    print(\"模型参数保存在./paddle/LR_model.pdparams中\")"
   ]
  },
  {
   "cell_type": "code",
   "execution_count": 64,
   "id": "583b8ad0",
   "metadata": {},
   "outputs": [
    {
     "name": "stdout",
     "output_type": "stream",
     "text": [
      "Inference result is [[13.060189]], the corresponding label is 13.800000190734863\n"
     ]
    }
   ],
   "source": [
    "# 数据集中抽一条样本作为测试样本\n",
    "def load_one_example():\n",
    "    # 从上边已加载的测试集中，随机选择一条作为测试数据\n",
    "    idx = np.random.randint(0, test_data.shape[0])\n",
    "    one_data, label = test_data[idx, :-1], test_data[idx, -1]\n",
    "    # 修改该条数据shape为[1,13]\n",
    "    one_data =  one_data.reshape([1,-1])\n",
    "\n",
    "    return one_data, label\n",
    "\n",
    "# 导入模型参数文件\n",
    "model_dict = paddle.load('./paddle/LR_model.pdparams')\n",
    "model.load_dict(model_dict)\n",
    "model.eval()\n",
    "\n",
    "# 参数为数据集的文件地址\n",
    "one_data, label = load_one_example()\n",
    "# 将数据转为动态图的variable格式 \n",
    "one_data = paddle.to_tensor(one_data)\n",
    "predict = model(one_data)\n",
    "\n",
    "# 对结果做反归一化处理\n",
    "predict = predict * (max_values[-1] - min_values[-1]) + min_values[-1]\n",
    "# 对label数据做反归一化处理\n",
    "label = label * (max_values[-1] - min_values[-1]) + min_values[-1]\n",
    "\n",
    "# 打印测试结果\n",
    "print(\"Inference result is {}, the corresponding label is {}\".format(predict.numpy(), label))\n"
   ]
  },
  {
   "cell_type": "code",
   "execution_count": null,
   "id": "bf7035e0",
   "metadata": {},
   "outputs": [],
   "source": []
  }
 ],
 "metadata": {
  "kernelspec": {
   "display_name": "Python 3 (ipykernel)",
   "language": "python",
   "name": "python3"
  },
  "language_info": {
   "codemirror_mode": {
    "name": "ipython",
    "version": 3
   },
   "file_extension": ".py",
   "mimetype": "text/x-python",
   "name": "python",
   "nbconvert_exporter": "python",
   "pygments_lexer": "ipython3",
   "version": "3.8.17"
  }
 },
 "nbformat": 4,
 "nbformat_minor": 5
}
