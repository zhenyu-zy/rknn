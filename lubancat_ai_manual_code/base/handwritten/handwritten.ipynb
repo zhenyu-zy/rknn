{
 "cells": [
  {
   "cell_type": "markdown",
   "id": "c2659058",
   "metadata": {},
   "source": [
    "# 手写数字识别"
   ]
  },
  {
   "cell_type": "markdown",
   "id": "e42c2e59",
   "metadata": {},
   "source": [
    "## 准备数据集"
   ]
  },
  {
   "cell_type": "code",
   "execution_count": 1,
   "id": "4c26033d",
   "metadata": {},
   "outputs": [],
   "source": [
    "import paddle\n",
    "from paddle.nn import Conv2D, MaxPool2D, Linear\n",
    "from paddle.vision.transforms import Normalize\n",
    "import paddle.nn.functional as F\n",
    "import numpy as np\n",
    "import os"
   ]
  },
  {
   "cell_type": "code",
   "execution_count": 2,
   "id": "b2d87291",
   "metadata": {},
   "outputs": [],
   "source": [
    "# 下载数据集并初始化，导入训练和测试数据集,并对数据进行处理\n",
    "transform = Normalize(mean=[127.5], std=[127.5])\n",
    "\n",
    "train_dataset = paddle.vision.datasets.MNIST(mode='train', transform=transform)\n",
    "test_dataset = paddle.vision.datasets.MNIST(mode='test', transform=transform)"
   ]
  },
  {
   "cell_type": "markdown",
   "id": "4187952c",
   "metadata": {},
   "source": [
    "读取训练数据集中数据内容，绘制数据："
   ]
  },
  {
   "cell_type": "code",
   "execution_count": 3,
   "id": "5d555afd",
   "metadata": {},
   "outputs": [
    {
     "data": {
      "image/png": "[encoded data removed]",
      "text/plain": [
       "<Figure size 640x480 with 5 Axes>"
      ]
     },
     "metadata": {},
     "output_type": "display_data"
    }
   ],
   "source": [
    "data_loader = paddle.io.DataLoader(train_dataset,batch_size=100)\n",
    "train_data = enumerate(data_loader())\n",
    "idx,(data,label) = next(train_data)\n",
    "\n",
    "import matplotlib.pyplot as plt\n",
    "\n",
    "# 绘制一些数据集图像\n",
    "plt.figure()\n",
    "for i in range(5):\n",
    "    plt.subplot(1,5,i+1)\n",
    "    plt.imshow(data[i][0])\n",
    "    plt.xticks([]),plt.yticks([])\n"
   ]
  },
  {
   "cell_type": "markdown",
   "id": "f78d4419",
   "metadata": {},
   "source": [
    "## 模型网络设计"
   ]
  },
  {
   "cell_type": "code",
   "execution_count": 3,
   "id": "7c89f3d5",
   "metadata": {},
   "outputs": [],
   "source": [
    "# 定义模型结构\n",
    "# 多层卷积神经网络实现\n",
    "class MNIST(paddle.nn.Layer):\n",
    "     def __init__(self):\n",
    "        super(MNIST, self).__init__()\n",
    "\n",
    "        # 定义卷积层，输出特征通道out_channels设置为20，卷积核的大小kernel_size为5，卷积步长stride=1，padding=2\n",
    "        self.conv1 = Conv2D(in_channels=1, out_channels=20, kernel_size=5, stride=1, padding=2)\n",
    "        # 定义池化层，池化核的大小kernel_size为2，池化步长为2\n",
    "        self.max_pool1 = MaxPool2D(kernel_size=2, stride=2)\n",
    "        # 定义卷积层，输出特征通道out_channels设置为20，卷积核的大小kernel_size为5，卷积步长stride=1，padding=2\n",
    "        self.conv2 = Conv2D(in_channels=20, out_channels=20, kernel_size=5, stride=1, padding=2)\n",
    "        # 定义池化层，池化核的大小kernel_size为2，池化步长为2\n",
    "        self.max_pool2 = MaxPool2D(kernel_size=2, stride=2)\n",
    "        # 定义一层全连接层，输出维度是10\n",
    "        self.fc = Linear(in_features=980, out_features=10)\n",
    "        \n",
    "    # 定义网络前向计算过程，卷积后紧接着使用池化层，最后使用全连接层计算最终输出\n",
    "    # 卷积层激活函数使用Relu，全连接层激活函数使用softmax\n",
    "     def forward(self, inputs, label=None):\n",
    "        x = self.conv1(inputs)\n",
    "        x = F.relu(x)\n",
    "        x = self.max_pool1(x)\n",
    "        x = self.conv2(x)\n",
    "        x = F.relu(x)\n",
    "        x = self.max_pool2(x)\n",
    "        x = paddle.reshape(x, [x.shape[0], -1])\n",
    "        x = self.fc(x)\n",
    "        if label is not None:\n",
    "            acc = paddle.metric.accuracy(input=x, label=label)\n",
    "            return x, acc\n",
    "        else:\n",
    "            return x"
   ]
  },
  {
   "cell_type": "markdown",
   "id": "49d71521",
   "metadata": {},
   "source": [
    "## 模型训练"
   ]
  },
  {
   "cell_type": "code",
   "execution_count": 4,
   "id": "bbf4e3b4",
   "metadata": {},
   "outputs": [
    {
     "name": "stdout",
     "output_type": "stream",
     "text": [
      "epoch: 0, batch: 0, loss is: 3.1040005683898926, acc is 0.09000000357627869\n",
      "epoch: 0, batch: 100, loss is: 0.408119797706604, acc is 0.8700000047683716\n",
      "epoch: 0, batch: 200, loss is: 0.345382422208786, acc is 0.8999999761581421\n",
      "epoch: 0, batch: 300, loss is: 0.27586910128593445, acc is 0.8999999761581421\n",
      "epoch: 0, batch: 400, loss is: 0.3045397102832794, acc is 0.8899999856948853\n",
      "epoch: 0, batch: 500, loss is: 0.3037496507167816, acc is 0.9100000262260437\n",
      "epoch: 1, batch: 0, loss is: 0.14953503012657166, acc is 0.9700000286102295\n",
      "epoch: 1, batch: 100, loss is: 0.15108387172222137, acc is 0.9599999785423279\n",
      "epoch: 1, batch: 200, loss is: 0.12093234807252884, acc is 0.9700000286102295\n",
      "epoch: 1, batch: 300, loss is: 0.0649615004658699, acc is 0.9900000095367432\n",
      "epoch: 1, batch: 400, loss is: 0.12195736169815063, acc is 0.9800000190734863\n",
      "epoch: 1, batch: 500, loss is: 0.1105581745505333, acc is 0.949999988079071\n",
      "epoch: 2, batch: 0, loss is: 0.054088104516267776, acc is 0.9800000190734863\n",
      "epoch: 2, batch: 100, loss is: 0.12994208931922913, acc is 0.9700000286102295\n",
      "epoch: 2, batch: 200, loss is: 0.07196033746004105, acc is 0.9900000095367432\n",
      "epoch: 2, batch: 300, loss is: 0.08120458573102951, acc is 0.9900000095367432\n",
      "epoch: 2, batch: 400, loss is: 0.10664203763008118, acc is 0.949999988079071\n",
      "epoch: 2, batch: 500, loss is: 0.08712950348854065, acc is 0.9700000286102295\n",
      "epoch: 3, batch: 0, loss is: 0.10910698026418686, acc is 0.9800000190734863\n",
      "epoch: 3, batch: 100, loss is: 0.05043410137295723, acc is 0.9900000095367432\n",
      "epoch: 3, batch: 200, loss is: 0.10944151878356934, acc is 0.9700000286102295\n",
      "epoch: 3, batch: 300, loss is: 0.093960702419281, acc is 0.949999988079071\n",
      "epoch: 3, batch: 400, loss is: 0.14204305410385132, acc is 0.9599999785423279\n",
      "epoch: 3, batch: 500, loss is: 0.03620711341500282, acc is 0.9900000095367432\n",
      "epoch: 4, batch: 0, loss is: 0.029382389038801193, acc is 1.0\n",
      "epoch: 4, batch: 100, loss is: 0.11690405756235123, acc is 0.9700000286102295\n",
      "epoch: 4, batch: 200, loss is: 0.06333734840154648, acc is 0.9900000095367432\n",
      "epoch: 4, batch: 300, loss is: 0.08579673618078232, acc is 0.9700000286102295\n",
      "epoch: 4, batch: 400, loss is: 0.04959002509713173, acc is 0.9800000190734863\n",
      "epoch: 4, batch: 500, loss is: 0.2135601043701172, acc is 0.9399999976158142\n",
      "epoch: 5, batch: 0, loss is: 0.06589329987764359, acc is 0.9800000190734863\n",
      "epoch: 5, batch: 100, loss is: 0.03196505457162857, acc is 0.9900000095367432\n",
      "epoch: 5, batch: 200, loss is: 0.0485953614115715, acc is 0.9800000190734863\n",
      "epoch: 5, batch: 300, loss is: 0.12647171318531036, acc is 0.9599999785423279\n",
      "epoch: 5, batch: 400, loss is: 0.037155285477638245, acc is 0.9900000095367432\n",
      "epoch: 5, batch: 500, loss is: 0.0848599523305893, acc is 0.9599999785423279\n",
      "epoch: 6, batch: 0, loss is: 0.03424328938126564, acc is 0.9800000190734863\n",
      "epoch: 6, batch: 100, loss is: 0.04604955017566681, acc is 0.9800000190734863\n",
      "epoch: 6, batch: 200, loss is: 0.03162578120827675, acc is 0.9900000095367432\n",
      "epoch: 6, batch: 300, loss is: 0.049639955163002014, acc is 0.9800000190734863\n",
      "epoch: 6, batch: 400, loss is: 0.0307452455163002, acc is 1.0\n",
      "epoch: 6, batch: 500, loss is: 0.04415397718548775, acc is 0.9800000190734863\n",
      "epoch: 7, batch: 0, loss is: 0.07480717450380325, acc is 0.9800000190734863\n",
      "epoch: 7, batch: 100, loss is: 0.056913118809461594, acc is 0.9800000190734863\n",
      "epoch: 7, batch: 200, loss is: 0.07699228078126907, acc is 0.9700000286102295\n",
      "epoch: 7, batch: 300, loss is: 0.03745265305042267, acc is 0.9900000095367432\n",
      "epoch: 7, batch: 400, loss is: 0.10697714984416962, acc is 0.949999988079071\n",
      "epoch: 7, batch: 500, loss is: 0.0937800332903862, acc is 0.949999988079071\n",
      "epoch: 8, batch: 0, loss is: 0.12237432599067688, acc is 0.9700000286102295\n",
      "epoch: 8, batch: 100, loss is: 0.045878373086452484, acc is 0.9900000095367432\n",
      "epoch: 8, batch: 200, loss is: 0.07306241989135742, acc is 0.9700000286102295\n",
      "epoch: 8, batch: 300, loss is: 0.09527338296175003, acc is 0.9700000286102295\n",
      "epoch: 8, batch: 400, loss is: 0.10401816666126251, acc is 0.949999988079071\n",
      "epoch: 8, batch: 500, loss is: 0.09424713999032974, acc is 0.9700000286102295\n",
      "epoch: 9, batch: 0, loss is: 0.01951342634856701, acc is 0.9900000095367432\n",
      "epoch: 9, batch: 100, loss is: 0.11561591923236847, acc is 0.9599999785423279\n",
      "epoch: 9, batch: 200, loss is: 0.020793259143829346, acc is 0.9900000095367432\n",
      "epoch: 9, batch: 300, loss is: 0.03641433268785477, acc is 0.9900000095367432\n",
      "epoch: 9, batch: 400, loss is: 0.06981825828552246, acc is 0.9800000190734863\n",
      "epoch: 9, batch: 500, loss is: 0.08217465132474899, acc is 0.9599999785423279\n"
     ]
    }
   ],
   "source": [
    "def train(model):\n",
    "    model.train()\n",
    "    \n",
    "    # 调用加载数据的函数，设置mini-batch 中样本个数为100，设置shuffle=True打乱顺序\n",
    "    train_loader = paddle.io.DataLoader(train_dataset, batch_size=100, shuffle=True)\n",
    "    \n",
    "    # 四种优化算法的设置方案，可以逐一尝试效果\n",
    "    opt = paddle.optimizer.SGD(learning_rate=0.01, parameters=model.parameters())\n",
    "    # opt = paddle.optimizer.Momentum(learning_rate=0.01, momentum=0.9, parameters=model.parameters())\n",
    "    # opt = paddle.optimizer.Adagrad(learning_rate=0.01, parameters=model.parameters())\n",
    "    # opt = paddle.optimizer.Adam(learning_rate=0.01, parameters=model.parameters())\n",
    "    \n",
    "    EPOCH_NUM = 10\n",
    "    iter=0\n",
    "    iters=[]\n",
    "    losses=[]\n",
    "    \n",
    "    for epoch_id in range(EPOCH_NUM):\n",
    "        for batch_id, data in enumerate(train_loader()):\n",
    "            # 准备数据\n",
    "            images, labels = data\n",
    "            images = paddle.to_tensor(images)\n",
    "            labels = paddle.to_tensor(labels)\n",
    "            \n",
    "            # 前向计算的过程,同时计算分类准确率\n",
    "            predicts, acc = model(images, labels)\n",
    "            #predicts = model(images)\n",
    "            \n",
    "            # 计算损失，取一个批次样本损失的平均值\n",
    "            loss = F.cross_entropy(predicts, labels)\n",
    "            avg_loss = paddle.mean(loss)\n",
    "            \n",
    "            # 每训练了100批次的数据，打印下当前Loss的情况\n",
    "            if batch_id % 100 == 0:\n",
    "                print(\"epoch: {}, batch: {}, loss is: {}, acc is {}\".format(epoch_id, batch_id, avg_loss.item(), acc.item()))\n",
    "                iters.append(iter)\n",
    "                losses.append(avg_loss.item())\n",
    "                iter = iter + 100\n",
    "                \n",
    "            # 后向传播，更新参数的过程\n",
    "            avg_loss.backward()\n",
    "            # 最小化loss,更新参数\n",
    "            opt.step()\n",
    "            # 清除梯度\n",
    "            opt.clear_grad()\n",
    "\n",
    "    # 保存模型参数\n",
    "    paddle.save(model.state_dict(), './paddle/mnist.pdparams')\n",
    "    \n",
    "    return iters, losses\n",
    "    \n",
    "# 创建模型    \n",
    "model = MNIST()\n",
    "\n",
    "#paddle.summary(model, (1, 1, 28, 28))\n",
    "\n",
    "# 启动训练过程\n",
    "#开启GPU\n",
    "#use_gpu = True\n",
    "#paddle.device.set_device('gpu:0') if use_gpu else paddle.device.set_device('cpu')\n",
    "iters, losses = train(model)\n"
   ]
  },
  {
   "cell_type": "code",
   "execution_count": 10,
   "id": "95e1f283",
   "metadata": {},
   "outputs": [
    {
     "name": "stdout",
     "output_type": "stream",
     "text": [
      "---------------------------------------------------------------------------\n",
      " Layer (type)       Input Shape          Output Shape         Param #    \n",
      "===========================================================================\n",
      "   Conv2D-3       [[1, 1, 28, 28]]     [1, 20, 28, 28]          520      \n",
      "  MaxPool2D-3    [[1, 20, 28, 28]]     [1, 20, 14, 14]           0       \n",
      "   Conv2D-4      [[1, 20, 14, 14]]     [1, 20, 14, 14]        10,020     \n",
      "  MaxPool2D-4    [[1, 20, 14, 14]]      [1, 20, 7, 7]            0       \n",
      "   Linear-2          [[1, 980]]            [1, 10]             9,810     \n",
      "===========================================================================\n",
      "Total params: 20,350\n",
      "Trainable params: 20,350\n",
      "Non-trainable params: 0\n",
      "---------------------------------------------------------------------------\n",
      "Input size (MB): 0.00\n",
      "Forward/backward pass size (MB): 0.19\n",
      "Params size (MB): 0.08\n",
      "Estimated Total Size (MB): 0.27\n",
      "---------------------------------------------------------------------------\n",
      "\n"
     ]
    },
    {
     "data": {
      "text/plain": [
       "{'total_params': 20350, 'trainable_params': 20350}"
      ]
     },
     "execution_count": 10,
     "metadata": {},
     "output_type": "execute_result"
    }
   ],
   "source": [
    "# 打印输出网络结构\n",
    "paddle.summary(model,(1,1,28,28))"
   ]
  },
  {
   "cell_type": "code",
   "execution_count": 5,
   "id": "20677b79",
   "metadata": {},
   "outputs": [
    {
     "data": {
      "image/png": "[encoded data removed]",
      "text/plain": [
       "<Figure size 640x480 with 1 Axes>"
      ]
     },
     "metadata": {},
     "output_type": "display_data"
    }
   ],
   "source": [
    "import matplotlib.pyplot as plt\n",
    "\n",
    "# 画出训练过程中Loss的变化曲线\n",
    "plt.figure()\n",
    "plt.title(\"train loss\", fontsize=14)\n",
    "plt.xlabel(\"iter\", fontsize=14)\n",
    "plt.ylabel(\"loss\", fontsize=14)\n",
    "plt.plot(iters, losses,color='red') \n",
    "plt.grid()\n",
    "plt.show()"
   ]
  },
  {
   "cell_type": "markdown",
   "id": "f206943c",
   "metadata": {},
   "source": [
    "## 模型测试"
   ]
  },
  {
   "cell_type": "code",
   "execution_count": 18,
   "id": "83a8b786",
   "metadata": {},
   "outputs": [
    {
     "name": "stdout",
     "output_type": "stream",
     "text": [
      "loading mnist model from  ./paddle/mnist.pdparams\n",
      "loss=0.05035130242863519, acc=0.9844\n"
     ]
    }
   ],
   "source": [
    "# 定义模型评估\n",
    "def evaluation(model):\n",
    "    params_file_path = './paddle/mnist.pdparams'\n",
    "    # 加载模型参数\n",
    "    print('loading mnist model from ', params_file_path)\n",
    "    param_dict = paddle.load(params_file_path)\n",
    "    model.load_dict(param_dict)\n",
    "\n",
    "    model.eval()\n",
    "    eval_loader = paddle.io.DataLoader(test_dataset)\n",
    "\n",
    "    acc_set = []\n",
    "    avg_loss_set = []\n",
    "    for batch_id, data in enumerate(eval_loader()):\n",
    "        images, labels = data\n",
    "        images = paddle.to_tensor(images)\n",
    "        labels = paddle.to_tensor(labels)\n",
    "        predicts, acc = model(images, labels)\n",
    "        loss = F.cross_entropy(input=predicts, label=labels)\n",
    "        avg_loss = paddle.mean(loss)\n",
    "        acc_set.append(float(acc.item()))\n",
    "        avg_loss_set.append(float(avg_loss.item()))\n",
    "    \n",
    "    # 计算多个batch的平均损失和准确率\n",
    "    acc_val_mean = np.array(acc_set).mean()\n",
    "    avg_loss_val_mean = np.array(avg_loss_set).mean()\n",
    "\n",
    "    print('loss={}, acc={}'.format(avg_loss_val_mean, acc_val_mean))\n",
    "\n",
    "# 模型评估\n",
    "model = MNIST()\n",
    "evaluation(model)\n"
   ]
  },
  {
   "cell_type": "code",
   "execution_count": 7,
   "id": "caba281d",
   "metadata": {},
   "outputs": [
    {
     "name": "stdout",
     "output_type": "stream",
     "text": [
      "2023-09-11 09:03:22 [INFO]\tStatic PaddlePaddle model saved in onnx/paddle_model_static_onnx_temp_dir.\n",
      "[Paddle2ONNX] Start to parse PaddlePaddle model...\n",
      "[Paddle2ONNX] Model file path: onnx/paddle_model_static_onnx_temp_dir/model.pdmodel\n",
      "[Paddle2ONNX] Paramters file path: onnx/paddle_model_static_onnx_temp_dir/model.pdiparams\n",
      "[Paddle2ONNX] Start to parsing Paddle model...\n",
      "[Paddle2ONNX] Use opset_version = 11 for ONNX export.\n",
      "[Paddle2ONNX] PaddlePaddle model is exported as ONNX format now.\n",
      "2023-09-11 09:03:22 [INFO]\tONNX model saved in onnx/handwritten.onnx.\n"
     ]
    },
    {
     "name": "stderr",
     "output_type": "stream",
     "text": [
      "I0911 09:03:22.786718 10495 interpretercore.cc:237] New Executor is Running.\n"
     ]
    }
   ],
   "source": [
    "# 需要保存的路径，当前onnx目录下\n",
    "save_path = 'onnx/handwritten'\n",
    "# 为模型指定输入的形状和数据类型\n",
    "x_spec = paddle.static.InputSpec([1, 1, 28, 28], 'float32', 'x')\n",
    "# 生成ONNX模型\n",
    "paddle.onnx.export(model, save_path, input_spec=[x_spec], opset_version=11)"
   ]
  },
  {
   "cell_type": "code",
   "execution_count": null,
   "id": "cd93ccb4",
   "metadata": {},
   "outputs": [],
   "source": []
  }
 ],
 "metadata": {
  "kernelspec": {
   "display_name": "Python 3 (ipykernel)",
   "language": "python",
   "name": "python3"
  },
  "language_info": {
   "codemirror_mode": {
    "name": "ipython",
    "version": 3
   },
   "file_extension": ".py",
   "mimetype": "text/x-python",
   "name": "python",
   "nbconvert_exporter": "python",
   "pygments_lexer": "ipython3",
   "version": "3.8.17"
  }
 },
 "nbformat": 4,
 "nbformat_minor": 5
}
